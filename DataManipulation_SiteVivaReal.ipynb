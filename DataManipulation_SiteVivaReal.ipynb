{
 "cells": [
  {
   "cell_type": "code",
   "execution_count": 1,
   "metadata": {},
   "outputs": [],
   "source": [
    "import pandas as pd\n",
    "import seaborn as sns"
   ]
  },
  {
   "cell_type": "code",
   "execution_count": 2,
   "metadata": {},
   "outputs": [],
   "source": [
    "df = pd.read_csv('full_results.csv')"
   ]
  },
  {
   "cell_type": "code",
   "execution_count": 3,
   "metadata": {},
   "outputs": [
    {
     "data": {
      "text/plain": [
       "id               0\n",
       "url              0\n",
       "header           0\n",
       "address          0\n",
       "area             0\n",
       "rooms            0\n",
       "bathrooms        0\n",
       "garages          0\n",
       "amenities     1593\n",
       "price            0\n",
       "condo         1464\n",
       "crawler          0\n",
       "crawled_at       0\n",
       "dtype: int64"
      ]
     },
     "execution_count": 3,
     "metadata": {},
     "output_type": "execute_result"
    }
   ],
   "source": [
    "df.isnull().sum()"
   ]
  },
  {
   "cell_type": "code",
   "execution_count": 4,
   "metadata": {},
   "outputs": [
    {
     "data": {
      "text/html": [
       "<div>\n",
       "<style scoped>\n",
       "    .dataframe tbody tr th:only-of-type {\n",
       "        vertical-align: middle;\n",
       "    }\n",
       "\n",
       "    .dataframe tbody tr th {\n",
       "        vertical-align: top;\n",
       "    }\n",
       "\n",
       "    .dataframe thead th {\n",
       "        text-align: right;\n",
       "    }\n",
       "</style>\n",
       "<table border=\"1\" class=\"dataframe\">\n",
       "  <thead>\n",
       "    <tr style=\"text-align: right;\">\n",
       "      <th></th>\n",
       "      <th>id</th>\n",
       "      <th>url</th>\n",
       "      <th>header</th>\n",
       "      <th>address</th>\n",
       "      <th>area</th>\n",
       "      <th>rooms</th>\n",
       "      <th>bathrooms</th>\n",
       "      <th>garages</th>\n",
       "      <th>amenities</th>\n",
       "      <th>price</th>\n",
       "      <th>condo</th>\n",
       "      <th>crawler</th>\n",
       "      <th>crawled_at</th>\n",
       "    </tr>\n",
       "  </thead>\n",
       "  <tbody>\n",
       "    <tr>\n",
       "      <th>count</th>\n",
       "      <td>5184</td>\n",
       "      <td>5184</td>\n",
       "      <td>5184</td>\n",
       "      <td>5184</td>\n",
       "      <td>5184</td>\n",
       "      <td>5184</td>\n",
       "      <td>5184</td>\n",
       "      <td>5184</td>\n",
       "      <td>5184</td>\n",
       "      <td>5184</td>\n",
       "      <td>5184</td>\n",
       "      <td>5184</td>\n",
       "      <td>5184</td>\n",
       "    </tr>\n",
       "    <tr>\n",
       "      <th>unique</th>\n",
       "      <td>5184</td>\n",
       "      <td>5184</td>\n",
       "      <td>477</td>\n",
       "      <td>1333</td>\n",
       "      <td>213</td>\n",
       "      <td>5</td>\n",
       "      <td>6</td>\n",
       "      <td>7</td>\n",
       "      <td>1050</td>\n",
       "      <td>522</td>\n",
       "      <td>752</td>\n",
       "      <td>1</td>\n",
       "      <td>48</td>\n",
       "    </tr>\n",
       "    <tr>\n",
       "      <th>top</th>\n",
       "      <td>2501729179</td>\n",
       "      <td>https://www.vivareal.com.br/imovel/apartamento...</td>\n",
       "      <td>Apartamento com 2 Quartos para Aluguel, 70m²</td>\n",
       "      <td>Canasvieiras, Florianópolis - SC</td>\n",
       "      <td>60</td>\n",
       "      <td>2 Quartos</td>\n",
       "      <td>1 Banheiro</td>\n",
       "      <td>1 Vaga</td>\n",
       "      <td>nan</td>\n",
       "      <td>R$ 1.500 /mês</td>\n",
       "      <td>nan</td>\n",
       "      <td>Florianópolis</td>\n",
       "      <td>2021-05-24 01:26</td>\n",
       "    </tr>\n",
       "    <tr>\n",
       "      <th>freq</th>\n",
       "      <td>1</td>\n",
       "      <td>1</td>\n",
       "      <td>212</td>\n",
       "      <td>206</td>\n",
       "      <td>267</td>\n",
       "      <td>2298</td>\n",
       "      <td>3045</td>\n",
       "      <td>3409</td>\n",
       "      <td>1593</td>\n",
       "      <td>243</td>\n",
       "      <td>1464</td>\n",
       "      <td>5184</td>\n",
       "      <td>144</td>\n",
       "    </tr>\n",
       "  </tbody>\n",
       "</table>\n",
       "</div>"
      ],
      "text/plain": [
       "                id                                                url  \\\n",
       "count         5184                                               5184   \n",
       "unique        5184                                               5184   \n",
       "top     2501729179  https://www.vivareal.com.br/imovel/apartamento...   \n",
       "freq             1                                                  1   \n",
       "\n",
       "                                              header  \\\n",
       "count                                           5184   \n",
       "unique                                           477   \n",
       "top     Apartamento com 2 Quartos para Aluguel, 70m²   \n",
       "freq                                             212   \n",
       "\n",
       "                                 address  area      rooms   bathrooms garages  \\\n",
       "count                               5184  5184       5184        5184    5184   \n",
       "unique                              1333   213          5           6       7   \n",
       "top     Canasvieiras, Florianópolis - SC    60  2 Quartos  1 Banheiro  1 Vaga   \n",
       "freq                                 206   267       2298        3045    3409   \n",
       "\n",
       "       amenities          price condo        crawler        crawled_at  \n",
       "count       5184           5184  5184           5184              5184  \n",
       "unique      1050            522   752              1                48  \n",
       "top          nan  R$ 1.500 /mês   nan  Florianópolis  2021-05-24 01:26  \n",
       "freq        1593            243  1464           5184               144  "
      ]
     },
     "execution_count": 4,
     "metadata": {},
     "output_type": "execute_result"
    }
   ],
   "source": [
    "all_columns = list(df.columns)\n",
    "df[all_columns] = df[all_columns].astype(str)\n",
    "df.describe()\n",
    "###5184 unique id and 5184 unique url!#######"
   ]
  },
  {
   "cell_type": "code",
   "execution_count": 5,
   "metadata": {},
   "outputs": [],
   "source": [
    "df.index = df['id']\n",
    "df = df.drop(['id'],axis=1)\n",
    "\n",
    "df['price'] = df['price'].str.extract('R\\$ (.*) /mês')\n",
    "df['price'] = df['price'].replace('\\.','',regex=True)\n",
    "\n",
    "df['condo'] = df['condo'].str.extract('R\\$ (.*)')\n",
    "df['condo'] = df['condo'].replace('\\.','',regex=True)\n",
    "df['condo'] = df['condo'].fillna(0)\n",
    "\n",
    "df['garages'] = df['garages'].str.extract('(.*) Vaga')\n",
    "df['bathrooms'] = df['bathrooms'].str.extract('(.*) Banheiro')\n",
    "df['rooms'] = df['rooms'].str.extract('(.*) Quarto')\n",
    "\n",
    "df['neighborhood'] = df.address.str.split('\\s-').str[1]\n",
    "df['neighborhood'] = df.neighborhood.str.split(',').str[0]"
   ]
  },
  {
   "cell_type": "code",
   "execution_count": 6,
   "metadata": {},
   "outputs": [
    {
     "data": {
      "text/plain": [
       "array([' Balneario do Estreito', ' Córrego Grande', ' Pantanal',\n",
       "       ' Rio Tavares', ' Jurerê Internacional', ' Itacorubi', ' Jurerê',\n",
       "       ' Carvoeira', ' Cachoeira do Bom Jesus', ' Estreito', ' Centro',\n",
       "       ' SC', ' Trindade', ' Santinho', ' Beira Mar', ' Agronômica',\n",
       "       ' Ingleses do Rio Vermelho', ' Canasvieiras', ' Coqueiros',\n",
       "       ' Ponta das Canas', ' Praia dos Ingleses', ' Campeche',\n",
       "       ' Joao Paulo', ' Réis', ' Jardim Atlântico', ' Saco dos Limões',\n",
       "       ' Lagoa da Conceição', ' Capoeiras', ' Monte Verde', ' Abraão',\n",
       "       ' Praia Brava', ' Barra da Lagoa', ' Santa Mônica',\n",
       "       ' Ribeirão da Ilha', ' Balneário', ' José Mendes', ' Saco Grande',\n",
       "       ' São João do Rio Vermelho', ' Armação', ' Costeira do Pirajubaé',\n",
       "       ' Itaguaçu', ' Ingleses Norte', ' Carianos',\n",
       "       ' Armação do Pântano do Sul', ' Bom Abrigo', ' Açores',\n",
       "       ' Monte Cristo', ' Santo Antônio de Lisboa', ' Vargem Grande',\n",
       "       ' Barreiros', ' Canto', ' Morro das Pedras', ' Canto da Lagoa',\n",
       "       ' Porto da Lagoa', ' Coloninha', ' Pântano do Sul',\n",
       "       ' Vargem Pequena', ' Parque São Jorge'], dtype=object)"
      ]
     },
     "execution_count": 6,
     "metadata": {},
     "output_type": "execute_result"
    }
   ],
   "source": [
    "df['neighborhood'].unique()"
   ]
  },
  {
   "cell_type": "code",
   "execution_count": 7,
   "metadata": {},
   "outputs": [
    {
     "data": {
      "text/plain": [
       "url               0\n",
       "header            0\n",
       "address           0\n",
       "area              0\n",
       "rooms             0\n",
       "bathrooms         0\n",
       "garages           0\n",
       "amenities         0\n",
       "price           957\n",
       "condo             0\n",
       "crawler           0\n",
       "crawled_at        0\n",
       "neighborhood      0\n",
       "dtype: int64"
      ]
     },
     "execution_count": 7,
     "metadata": {},
     "output_type": "execute_result"
    }
   ],
   "source": [
    "df.isnull().sum()"
   ]
  },
  {
   "cell_type": "code",
   "execution_count": 8,
   "metadata": {},
   "outputs": [
    {
     "data": {
      "text/plain": [
       "Index(['area', 'rooms', 'bathrooms', 'garages', 'price', 'condo'], dtype='object')"
      ]
     },
     "execution_count": 8,
     "metadata": {},
     "output_type": "execute_result"
    }
   ],
   "source": [
    "cols = df.columns.drop(['crawled_at','crawler','header','address','neighborhood','url','amenities'])\n",
    "cols"
   ]
  },
  {
   "cell_type": "code",
   "execution_count": 9,
   "metadata": {},
   "outputs": [
    {
     "data": {
      "text/plain": [
       "30000.0"
      ]
     },
     "execution_count": 9,
     "metadata": {},
     "output_type": "execute_result"
    }
   ],
   "source": [
    "df[cols] = df[cols].apply(pd.to_numeric, errors = 'coerce')\n",
    "max(df.price)"
   ]
  },
  {
   "cell_type": "code",
   "execution_count": 10,
   "metadata": {},
   "outputs": [
    {
     "data": {
      "text/plain": [
       "url                0\n",
       "header             0\n",
       "address            0\n",
       "area               0\n",
       "rooms              0\n",
       "bathrooms          0\n",
       "garages         1018\n",
       "amenities          0\n",
       "price            957\n",
       "condo              0\n",
       "crawler            0\n",
       "crawled_at         0\n",
       "neighborhood       0\n",
       "dtype: int64"
      ]
     },
     "execution_count": 10,
     "metadata": {},
     "output_type": "execute_result"
    }
   ],
   "source": [
    "df.isnull().sum()"
   ]
  },
  {
   "cell_type": "code",
   "execution_count": 11,
   "metadata": {},
   "outputs": [],
   "source": [
    "df = df.dropna(subset=['price'])\n",
    "df = df.fillna(0)"
   ]
  },
  {
   "cell_type": "code",
   "execution_count": 12,
   "metadata": {},
   "outputs": [
    {
     "data": {
      "text/plain": [
       "url             0\n",
       "header          0\n",
       "address         0\n",
       "area            0\n",
       "rooms           0\n",
       "bathrooms       0\n",
       "garages         0\n",
       "amenities       0\n",
       "price           0\n",
       "condo           0\n",
       "crawler         0\n",
       "crawled_at      0\n",
       "neighborhood    0\n",
       "dtype: int64"
      ]
     },
     "execution_count": 12,
     "metadata": {},
     "output_type": "execute_result"
    }
   ],
   "source": [
    "df.isnull().sum()"
   ]
  },
  {
   "cell_type": "code",
   "execution_count": 13,
   "metadata": {},
   "outputs": [
    {
     "data": {
      "text/plain": [
       "<AxesSubplot:xlabel='price', ylabel='Count'>"
      ]
     },
     "execution_count": 13,
     "metadata": {},
     "output_type": "execute_result"
    },
    {
     "data": {
      "image/png": "[encoded data removed]",
      "text/plain": [
       "<Figure size 432x288 with 1 Axes>"
      ]
     },
     "metadata": {
      "needs_background": "light"
     },
     "output_type": "display_data"
    }
   ],
   "source": [
    "sns.histplot(data=df['price'])"
   ]
  },
  {
   "cell_type": "code",
   "execution_count": 14,
   "metadata": {},
   "outputs": [
    {
     "name": "stdout",
     "output_type": "stream",
     "text": [
      "<class 'pandas.core.frame.DataFrame'>\n",
      "Index: 4227 entries, 2520673504 to 2514496364\n",
      "Data columns (total 13 columns):\n",
      " #   Column        Non-Null Count  Dtype  \n",
      "---  ------        --------------  -----  \n",
      " 0   url           4227 non-null   object \n",
      " 1   header        4227 non-null   object \n",
      " 2   address       4227 non-null   object \n",
      " 3   area          4227 non-null   int64  \n",
      " 4   rooms         4227 non-null   int64  \n",
      " 5   bathrooms     4227 non-null   int64  \n",
      " 6   garages       4227 non-null   float64\n",
      " 7   amenities     4227 non-null   object \n",
      " 8   price         4227 non-null   float64\n",
      " 9   condo         4227 non-null   int64  \n",
      " 10  crawler       4227 non-null   object \n",
      " 11  crawled_at    4227 non-null   object \n",
      " 12  neighborhood  4227 non-null   object \n",
      "dtypes: float64(2), int64(4), object(7)\n",
      "memory usage: 462.3+ KB\n"
     ]
    }
   ],
   "source": [
    "df.info()"
   ]
  },
  {
   "cell_type": "code",
   "execution_count": 15,
   "metadata": {},
   "outputs": [
    {
     "data": {
      "text/html": [
       "<div>\n",
       "<style scoped>\n",
       "    .dataframe tbody tr th:only-of-type {\n",
       "        vertical-align: middle;\n",
       "    }\n",
       "\n",
       "    .dataframe tbody tr th {\n",
       "        vertical-align: top;\n",
       "    }\n",
       "\n",
       "    .dataframe thead th {\n",
       "        text-align: right;\n",
       "    }\n",
       "</style>\n",
       "<table border=\"1\" class=\"dataframe\">\n",
       "  <thead>\n",
       "    <tr style=\"text-align: right;\">\n",
       "      <th></th>\n",
       "      <th>area</th>\n",
       "      <th>rooms</th>\n",
       "      <th>bathrooms</th>\n",
       "      <th>garages</th>\n",
       "      <th>price</th>\n",
       "      <th>condo</th>\n",
       "    </tr>\n",
       "  </thead>\n",
       "  <tbody>\n",
       "    <tr>\n",
       "      <th>count</th>\n",
       "      <td>4227.000000</td>\n",
       "      <td>4227.000000</td>\n",
       "      <td>4227.000000</td>\n",
       "      <td>4227.000000</td>\n",
       "      <td>4227.000000</td>\n",
       "      <td>4.227000e+03</td>\n",
       "    </tr>\n",
       "    <tr>\n",
       "      <th>mean</th>\n",
       "      <td>73.711379</td>\n",
       "      <td>2.014904</td>\n",
       "      <td>1.572510</td>\n",
       "      <td>1.061273</td>\n",
       "      <td>2242.546487</td>\n",
       "      <td>8.162411e+02</td>\n",
       "    </tr>\n",
       "    <tr>\n",
       "      <th>std</th>\n",
       "      <td>52.475239</td>\n",
       "      <td>0.783475</td>\n",
       "      <td>0.817828</td>\n",
       "      <td>6.287126</td>\n",
       "      <td>1639.472303</td>\n",
       "      <td>1.924990e+04</td>\n",
       "    </tr>\n",
       "    <tr>\n",
       "      <th>min</th>\n",
       "      <td>10.000000</td>\n",
       "      <td>1.000000</td>\n",
       "      <td>1.000000</td>\n",
       "      <td>0.000000</td>\n",
       "      <td>500.000000</td>\n",
       "      <td>0.000000e+00</td>\n",
       "    </tr>\n",
       "    <tr>\n",
       "      <th>25%</th>\n",
       "      <td>50.000000</td>\n",
       "      <td>1.000000</td>\n",
       "      <td>1.000000</td>\n",
       "      <td>1.000000</td>\n",
       "      <td>1400.000000</td>\n",
       "      <td>2.870000e+02</td>\n",
       "    </tr>\n",
       "    <tr>\n",
       "      <th>50%</th>\n",
       "      <td>66.000000</td>\n",
       "      <td>2.000000</td>\n",
       "      <td>1.000000</td>\n",
       "      <td>1.000000</td>\n",
       "      <td>1800.000000</td>\n",
       "      <td>4.500000e+02</td>\n",
       "    </tr>\n",
       "    <tr>\n",
       "      <th>75%</th>\n",
       "      <td>84.000000</td>\n",
       "      <td>3.000000</td>\n",
       "      <td>2.000000</td>\n",
       "      <td>1.000000</td>\n",
       "      <td>2500.000000</td>\n",
       "      <td>6.350000e+02</td>\n",
       "    </tr>\n",
       "    <tr>\n",
       "      <th>max</th>\n",
       "      <td>2300.000000</td>\n",
       "      <td>5.000000</td>\n",
       "      <td>6.000000</td>\n",
       "      <td>407.000000</td>\n",
       "      <td>30000.000000</td>\n",
       "      <td>1.250000e+06</td>\n",
       "    </tr>\n",
       "  </tbody>\n",
       "</table>\n",
       "</div>"
      ],
      "text/plain": [
       "              area        rooms    bathrooms      garages         price  \\\n",
       "count  4227.000000  4227.000000  4227.000000  4227.000000   4227.000000   \n",
       "mean     73.711379     2.014904     1.572510     1.061273   2242.546487   \n",
       "std      52.475239     0.783475     0.817828     6.287126   1639.472303   \n",
       "min      10.000000     1.000000     1.000000     0.000000    500.000000   \n",
       "25%      50.000000     1.000000     1.000000     1.000000   1400.000000   \n",
       "50%      66.000000     2.000000     1.000000     1.000000   1800.000000   \n",
       "75%      84.000000     3.000000     2.000000     1.000000   2500.000000   \n",
       "max    2300.000000     5.000000     6.000000   407.000000  30000.000000   \n",
       "\n",
       "              condo  \n",
       "count  4.227000e+03  \n",
       "mean   8.162411e+02  \n",
       "std    1.924990e+04  \n",
       "min    0.000000e+00  \n",
       "25%    2.870000e+02  \n",
       "50%    4.500000e+02  \n",
       "75%    6.350000e+02  \n",
       "max    1.250000e+06  "
      ]
     },
     "execution_count": 15,
     "metadata": {},
     "output_type": "execute_result"
    }
   ],
   "source": [
    "df.describe()"
   ]
  },
  {
   "cell_type": "code",
   "execution_count": 16,
   "metadata": {},
   "outputs": [
    {
     "data": {
      "text/html": [
       "<div>\n",
       "<style scoped>\n",
       "    .dataframe tbody tr th:only-of-type {\n",
       "        vertical-align: middle;\n",
       "    }\n",
       "\n",
       "    .dataframe tbody tr th {\n",
       "        vertical-align: top;\n",
       "    }\n",
       "\n",
       "    .dataframe thead th {\n",
       "        text-align: right;\n",
       "    }\n",
       "</style>\n",
       "<table border=\"1\" class=\"dataframe\">\n",
       "  <thead>\n",
       "    <tr style=\"text-align: right;\">\n",
       "      <th></th>\n",
       "      <th>address</th>\n",
       "      <th>area</th>\n",
       "      <th>rooms</th>\n",
       "      <th>bathrooms</th>\n",
       "      <th>garages</th>\n",
       "      <th>amenities</th>\n",
       "      <th>price</th>\n",
       "      <th>condo</th>\n",
       "      <th>neighborhood</th>\n",
       "    </tr>\n",
       "    <tr>\n",
       "      <th>id</th>\n",
       "      <th></th>\n",
       "      <th></th>\n",
       "      <th></th>\n",
       "      <th></th>\n",
       "      <th></th>\n",
       "      <th></th>\n",
       "      <th></th>\n",
       "      <th></th>\n",
       "      <th></th>\n",
       "    </tr>\n",
       "  </thead>\n",
       "  <tbody>\n",
       "    <tr>\n",
       "      <th>2520673504</th>\n",
       "      <td>Rua Coronel Pedro Demoro, 1507 - Balneario do ...</td>\n",
       "      <td>75</td>\n",
       "      <td>2</td>\n",
       "      <td>2</td>\n",
       "      <td>1.0</td>\n",
       "      <td>Elevador\\nPiscina\\nChurrasqueira\\nSalão de fes...</td>\n",
       "      <td>2800.0</td>\n",
       "      <td>0</td>\n",
       "      <td>Balneario do Estreito</td>\n",
       "    </tr>\n",
       "    <tr>\n",
       "      <th>2512632181</th>\n",
       "      <td>Rua Maestro Aldo Krieger, 54 - Córrego Grande,...</td>\n",
       "      <td>65</td>\n",
       "      <td>2</td>\n",
       "      <td>2</td>\n",
       "      <td>1.0</td>\n",
       "      <td>Elevador\\nSalão de festas\\nAr-condicionado\\nCo...</td>\n",
       "      <td>1700.0</td>\n",
       "      <td>740</td>\n",
       "      <td>Córrego Grande</td>\n",
       "    </tr>\n",
       "    <tr>\n",
       "      <th>2517219101</th>\n",
       "      <td>Rua Maria Eduarda, 33 - Pantanal, Florianópoli...</td>\n",
       "      <td>35</td>\n",
       "      <td>1</td>\n",
       "      <td>1</td>\n",
       "      <td>0.0</td>\n",
       "      <td>Mobiliado\\nElevador\\nAr-condicionado\\nCondomín...</td>\n",
       "      <td>1400.0</td>\n",
       "      <td>300</td>\n",
       "      <td>Pantanal</td>\n",
       "    </tr>\n",
       "    <tr>\n",
       "      <th>2518663689</th>\n",
       "      <td>Servidão Manoel Isidoro Augusto, 560 - Rio Tav...</td>\n",
       "      <td>70</td>\n",
       "      <td>1</td>\n",
       "      <td>1</td>\n",
       "      <td>1.0</td>\n",
       "      <td>Jardim\\nSistema de alarme\\nCozinha americana</td>\n",
       "      <td>1900.0</td>\n",
       "      <td>0</td>\n",
       "      <td>Rio Tavares</td>\n",
       "    </tr>\n",
       "    <tr>\n",
       "      <th>2516104017</th>\n",
       "      <td>Avenida dos Búzios, 3147 - Jurerê Internaciona...</td>\n",
       "      <td>250</td>\n",
       "      <td>4</td>\n",
       "      <td>3</td>\n",
       "      <td>2.0</td>\n",
       "      <td>Mobiliado\\nElevador\\nChurrasqueira\\nSalão de f...</td>\n",
       "      <td>5200.0</td>\n",
       "      <td>1200</td>\n",
       "      <td>Jurerê Internacional</td>\n",
       "    </tr>\n",
       "  </tbody>\n",
       "</table>\n",
       "</div>"
      ],
      "text/plain": [
       "                                                      address  area  rooms  \\\n",
       "id                                                                           \n",
       "2520673504  Rua Coronel Pedro Demoro, 1507 - Balneario do ...    75      2   \n",
       "2512632181  Rua Maestro Aldo Krieger, 54 - Córrego Grande,...    65      2   \n",
       "2517219101  Rua Maria Eduarda, 33 - Pantanal, Florianópoli...    35      1   \n",
       "2518663689  Servidão Manoel Isidoro Augusto, 560 - Rio Tav...    70      1   \n",
       "2516104017  Avenida dos Búzios, 3147 - Jurerê Internaciona...   250      4   \n",
       "\n",
       "            bathrooms  garages  \\\n",
       "id                               \n",
       "2520673504          2      1.0   \n",
       "2512632181          2      1.0   \n",
       "2517219101          1      0.0   \n",
       "2518663689          1      1.0   \n",
       "2516104017          3      2.0   \n",
       "\n",
       "                                                    amenities   price  condo  \\\n",
       "id                                                                             \n",
       "2520673504  Elevador\\nPiscina\\nChurrasqueira\\nSalão de fes...  2800.0      0   \n",
       "2512632181  Elevador\\nSalão de festas\\nAr-condicionado\\nCo...  1700.0    740   \n",
       "2517219101  Mobiliado\\nElevador\\nAr-condicionado\\nCondomín...  1400.0    300   \n",
       "2518663689       Jardim\\nSistema de alarme\\nCozinha americana  1900.0      0   \n",
       "2516104017  Mobiliado\\nElevador\\nChurrasqueira\\nSalão de f...  5200.0   1200   \n",
       "\n",
       "                      neighborhood  \n",
       "id                                  \n",
       "2520673504   Balneario do Estreito  \n",
       "2512632181          Córrego Grande  \n",
       "2517219101                Pantanal  \n",
       "2518663689             Rio Tavares  \n",
       "2516104017    Jurerê Internacional  "
      ]
     },
     "execution_count": 16,
     "metadata": {},
     "output_type": "execute_result"
    }
   ],
   "source": [
    "df = df.drop(['crawled_at','crawler','header','url'], axis=1)\n",
    "df.head()"
   ]
  },
  {
   "cell_type": "code",
   "execution_count": null,
   "metadata": {},
   "outputs": [],
   "source": []
  }
 ],
 "metadata": {
  "kernelspec": {
   "display_name": "Python 3",
   "language": "python",
   "name": "python3"
  },
  "language_info": {
   "codemirror_mode": {
    "name": "ipython",
    "version": 3
   },
   "file_extension": ".py",
   "mimetype": "text/x-python",
   "name": "python",
   "nbconvert_exporter": "python",
   "pygments_lexer": "ipython3",
   "version": "3.8.5"
  }
 },
 "nbformat": 4,
 "nbformat_minor": 4
}
